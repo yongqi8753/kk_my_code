{
 "cells": [
  {
   "cell_type": "code",
   "execution_count": 1,
   "metadata": {},
   "outputs": [],
   "source": [
    "import pandas as pd\n",
    "from tqdm.notebook import tqdm\n",
    "import transbigdata as tbd"
   ]
  },
  {
   "cell_type": "code",
   "execution_count": null,
   "metadata": {},
   "outputs": [],
   "source": [
    "# 批量处理gjc02坐标转换为wgs84坐标\n",
    "for i in tqdm(range(2,21)):\n",
    "    df = pd.read_csv('../location_to_trip_data_new/loc2trip_%d.csv'%i)\n",
    "    df['newlon'] = tbd.gcj02towgs84(df['start_lon'], df['start_lat'])[0]\n",
    "    df['newlat'] = tbd.gcj02towgs84(df['start_lon'], df['start_lat'])[1]\n",
    "    df.drop(['start_lon', 'start_lat'], axis=1, inplace=True)\n",
    "    df.rename(columns={'newlon':'start_lon', 'newlat':'start_lat'}, inplace=True)\n",
    "    df = df[['bikeid', 'start_time', 'start_lon', 'start_lat', 'end_time', 'end_lng','end_lat', 'time_difference', 'distance']]\n",
    "    df.to_csv('../location_to_trip_data_new_gcj2wgs/loc2trip_%d.csv'%i, index=False)"
   ]
  }
 ],
 "metadata": {
  "kernelspec": {
   "display_name": "Python 3.9.7 ('base': conda)",
   "language": "python",
   "name": "python3"
  },
  "language_info": {
   "codemirror_mode": {
    "name": "ipython",
    "version": 3
   },
   "file_extension": ".py",
   "mimetype": "text/x-python",
   "name": "python",
   "nbconvert_exporter": "python",
   "pygments_lexer": "ipython3",
   "version": "3.9.7"
  },
  "orig_nbformat": 4,
  "vscode": {
   "interpreter": {
    "hash": "5e2c11bbbad5a2bbd754e37e7ccadd59026a0c9d72ae15d1d78f88bfe02602ab"
   }
  }
 },
 "nbformat": 4,
 "nbformat_minor": 2
}
