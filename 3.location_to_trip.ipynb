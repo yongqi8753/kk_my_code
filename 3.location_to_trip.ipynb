{
 "cells": [
  {
   "cell_type": "code",
   "execution_count": 1,
   "id": "cdea639e",
   "metadata": {
    "ExecuteTime": {
     "end_time": "2022-11-12T13:51:47.860583Z",
     "start_time": "2022-11-12T13:51:46.509345Z"
    }
   },
   "outputs": [],
   "source": [
    "import warnings\n",
    "import pandas as pd\n",
    "import numpy as np\n",
    "import seaborn as sns\n",
    "import matplotlib.pyplot as plt\n",
    "plt.rcParams['font.sans-serif'] = ['SimHei']  #显示中文\n",
    "plt.rcParams['axes.unicode_minus']=False #用来正常显示负号\n",
    "plt.rcParams['figure.dpi'] = 300\n",
    "%matplotlib inline\n",
    "# %config InlineBackend.figure_format = 'svg'\n",
    "warnings.filterwarnings('ignore')\n",
    "pd.set_option('display.max_columns', None) # 显示所有列\n",
    "from tqdm.notebook import tqdm\n",
    "# import geopandas as gpd\n",
    "# import transbigdata as tbd\n",
    "# import geoplot as gplt\n",
    "from TripIdentification import * # 导入自定义函数\n",
    "import time"
   ]
  },
  {
   "cell_type": "code",
   "execution_count": 3,
   "id": "12074bf8",
   "metadata": {
    "ExecuteTime": {
     "end_time": "2022-11-13T02:25:45.945825Z",
     "start_time": "2022-11-13T02:25:16.182600Z"
    }
   },
   "outputs": [
    {
     "data": {
      "application/vnd.jupyter.widget-view+json": {
       "model_id": "66561be2a134455c9825b8a4fc5295c9",
       "version_major": 2,
       "version_minor": 0
      },
      "text/plain": [
       "  0%|          | 0/1 [00:00<?, ?it/s]"
      ]
     },
     "metadata": {},
     "output_type": "display_data"
    },
    {
     "name": "stdout",
     "output_type": "stream",
     "text": [
      "读取数据\n",
      "读取路径为：  E:/yongqi/mobike/park_to_location_data/park2location_9.csv\n",
      "存储路径为：  E:/yongqi/mobike/location_to_trip_data/loc2trip_9.csv\n",
      "location_data.shape: (20218266, 4)\n",
      "数据类型转换完成\n",
      "数据shift完成\n",
      "location_data.shape: (20218266, 9)\n",
      "删除不同的bikeid后，location_data.shape: (20086205, 9)\n",
      "考虑时间阈值后，trip_data.shape: (472410, 9)\n",
      "距离计算完成\n",
      "考虑空间阈值后，trip_data.shape: (460399, 10)\n",
      "存储trip_data完成\n"
     ]
    }
   ],
   "source": [
    "import time\n",
    "# time.sleep(1800)\n",
    "\n",
    "for i in tqdm(range(9,10)):\n",
    "    print('读取数据')\n",
    "    print('读取路径为：  E:/yongqi/mobike/park_to_location_data/park2location_%d.csv'%i)\n",
    "    print('存储路径为：  E:/yongqi/mobike/location_to_trip_data/loc2trip_%d.csv'%i)\n",
    "\n",
    "    location_data = pd.read_csv('E:/yongqi/mobike/park_to_location_data/park2location_%d.csv'%i)\n",
    "    print('location_data.shape:',location_data.shape)\n",
    "    location_data['timestamp'] = pd.to_datetime(location_data['timestamp'])\n",
    "    location_data['bikeid'] = location_data['bikeid'].astype('str')\n",
    "    print('数据类型转换完成')\n",
    "\n",
    "    location_data['timestamp_next'] = location_data['timestamp'].shift(-1)\n",
    "    location_data['bikeid_next'] = location_data['bikeid'].shift(-1)\n",
    "    location_data['time_difference'] = (location_data['timestamp_next'] - location_data['timestamp']).dt.seconds/60\n",
    "    location_data['geom_lon_next'] = location_data['geom_lon'].shift(-1)\n",
    "    location_data['geom_lat_next'] = location_data['geom_lat'].shift(-1)\n",
    "    print('数据shift完成')\n",
    "\n",
    "    # bikeid条件\n",
    "    print('location_data.shape:',location_data.shape)\n",
    "    location_data = location_data[location_data['bikeid'] == location_data['bikeid_next']]\n",
    "    print('删除不同的bikeid后，location_data.shape:',location_data.shape)\n",
    "    # 考虑时间阈值\n",
    "    trip_data = location_data[(location_data['time_difference']>i)&(location_data['time_difference']<120)]\n",
    "    print('考虑时间阈值后，trip_data.shape:',trip_data.shape)\n",
    "\n",
    "    # 考虑空间阈值，取100m\n",
    "    # 曼哈顿距离\n",
    "    def mhd_dis(lng1, lat1, lng2, lat2):\n",
    "        '''\n",
    "        Returns\n",
    "        ----------\n",
    "        单位是米\n",
    "        ''' \n",
    "        cos_lat = np.cos(30.656883854354138/180 * np.pi) * 111000 # 米\n",
    "        lng_dis = cos_lat * abs(lng1-lng2)\n",
    "        lat_dis = 111000 * abs(lat1-lat2)\n",
    "        return lng_dis + lat_dis\n",
    "    trip_data['distance'] = trip_data.apply(lambda x:mhd_dis(x['geom_lon'], x['geom_lat'], x['geom_lon_next'], x['geom_lat_next']),axis=1)\n",
    "    print('距离计算完成')\n",
    "    trip_data = trip_data[(trip_data['distance']>100)&(trip_data['distance']<100000)]\n",
    "    print('考虑空间阈值后，trip_data.shape:',trip_data.shape)\n",
    "\n",
    "    trip_data.to_csv('E:/yongqi/mobike/location_to_trip_data/loc2trip_%d.csv'%i,index=False)\n",
    "    print('存储trip_data完成')"
   ]
  },
  {
   "cell_type": "code",
   "execution_count": null,
   "id": "12963e16",
   "metadata": {},
   "outputs": [],
   "source": []
  }
 ],
 "metadata": {
  "kernelspec": {
   "display_name": "Python 3.9.7 ('base': conda)",
   "language": "python",
   "name": "python3"
  },
  "language_info": {
   "codemirror_mode": {
    "name": "ipython",
    "version": 3
   },
   "file_extension": ".py",
   "mimetype": "text/x-python",
   "name": "python",
   "nbconvert_exporter": "python",
   "pygments_lexer": "ipython3",
   "version": "3.9.7"
  },
  "vscode": {
   "interpreter": {
    "hash": "5e2c11bbbad5a2bbd754e37e7ccadd59026a0c9d72ae15d1d78f88bfe02602ab"
   }
  }
 },
 "nbformat": 4,
 "nbformat_minor": 5
}
