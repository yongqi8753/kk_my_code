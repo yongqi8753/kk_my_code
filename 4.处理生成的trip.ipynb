{
 "cells": [
  {
   "cell_type": "code",
   "execution_count": 1,
   "id": "8433dbfa",
   "metadata": {
    "ExecuteTime": {
     "end_time": "2022-11-13T03:04:28.136073Z",
     "start_time": "2022-11-13T03:04:27.411411Z"
    }
   },
   "outputs": [],
   "source": [
    "import warnings\n",
    "import pandas as pd\n",
    "import numpy as np\n",
    "import seaborn as sns\n",
    "import matplotlib.pyplot as plt\n",
    "plt.rcParams['font.sans-serif'] = ['SimHei']  #显示中文\n",
    "plt.rcParams['axes.unicode_minus']=False #用来正常显示负号\n",
    "plt.rcParams['figure.dpi'] = 300\n",
    "%matplotlib inline\n",
    "# %config InlineBackend.figure_format = 'svg'\n",
    "warnings.filterwarnings('ignore')\n",
    "pd.set_option('display.max_columns', None) # 显示所有列\n",
    "from tqdm.notebook import tqdm\n",
    "import geopandas as gpd\n",
    "import transbigdata as tbd\n",
    "# import geoplot as gplt"
   ]
  },
  {
   "cell_type": "code",
   "execution_count": 4,
   "id": "5dcae961",
   "metadata": {
    "ExecuteTime": {
     "end_time": "2022-11-13T03:50:18.714328Z",
     "start_time": "2022-11-13T03:50:18.080735Z"
    }
   },
   "outputs": [],
   "source": [
    "trip2 = pd.read_csv('../location_to_trip_data/loc2trip_2.csv')"
   ]
  },
  {
   "cell_type": "code",
   "execution_count": 7,
   "id": "08379d98",
   "metadata": {
    "ExecuteTime": {
     "end_time": "2022-11-13T03:50:19.146768Z",
     "start_time": "2022-11-13T03:50:19.128707Z"
    }
   },
   "outputs": [
    {
     "data": {
      "text/plain": [
       "count    659493.000000\n",
       "mean        104.060588\n",
       "std           0.046542\n",
       "min         103.006375\n",
       "25%         104.032340\n",
       "50%         104.063674\n",
       "75%         104.088411\n",
       "max         104.214501\n",
       "Name: geom_lon, dtype: float64"
      ]
     },
     "execution_count": 7,
     "metadata": {},
     "output_type": "execute_result"
    }
   ],
   "source": [
    "trip2['geom_lon'].describe()"
   ]
  },
  {
   "cell_type": "code",
   "execution_count": null,
   "id": "4e52e126",
   "metadata": {},
   "outputs": [],
   "source": []
  }
 ],
 "metadata": {
  "kernelspec": {
   "display_name": "Python 3.9.7 ('base': conda)",
   "language": "python",
   "name": "python3"
  },
  "language_info": {
   "codemirror_mode": {
    "name": "ipython",
    "version": 3
   },
   "file_extension": ".py",
   "mimetype": "text/x-python",
   "name": "python",
   "nbconvert_exporter": "python",
   "pygments_lexer": "ipython3",
   "version": "3.9.7"
  },
  "vscode": {
   "interpreter": {
    "hash": "5e2c11bbbad5a2bbd754e37e7ccadd59026a0c9d72ae15d1d78f88bfe02602ab"
   }
  }
 },
 "nbformat": 4,
 "nbformat_minor": 5
}
