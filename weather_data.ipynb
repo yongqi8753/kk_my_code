{
 "cells": [
  {
   "cell_type": "markdown",
   "metadata": {},
   "source": [
    "没有wwo_hist，需要先安装"
   ]
  },
  {
   "cell_type": "code",
   "execution_count": 1,
   "metadata": {},
   "outputs": [],
   "source": [
    "import pandas as pd\n",
    "from wwo_hist import retrieve_hist_data\n",
    "import os\n",
    "# 设置工作路径，生成文件的路径\n",
    "os.chdir('C:/Users/yongqi/Desktop/hhj/')"
   ]
  },
  {
   "cell_type": "code",
   "execution_count": 4,
   "metadata": {},
   "outputs": [
    {
     "name": "stdout",
     "output_type": "stream",
     "text": [
      "\n",
      "\n",
      "Retrieving weather data for nanjing\n",
      "\n",
      "\n",
      "Currently retrieving data for nanjing: from 2019-05-01 to 2019-05-31\n",
      "Time elapsed (hh:mm:ss.ms) 0:00:03.914264\n",
      "\n",
      "\n",
      "export nanjing completed!\n",
      "\n",
      "\n"
     ]
    }
   ],
   "source": [
    "frequency = 3\n",
    "start_date = '01-MAY-2019'\n",
    "end_date = '31-MAY-2019'\n",
    "api_key = 'd2b7d663ad2942e686c110713222311'\n",
    "location_list = ['nanjing']\n",
    "hist_weather_data = retrieve_hist_data(api_key,\\\n",
    "                    location_list=location_list,\\\n",
    "                    start_date=start_date, end_date=end_date,\\\n",
    "                    frequency=frequency, location_label = False,\\\n",
    "                    export_csv=True, store_df=True)\n"
   ]
  },
  {
   "cell_type": "code",
   "execution_count": null,
   "metadata": {},
   "outputs": [],
   "source": []
  },
  {
   "cell_type": "code",
   "execution_count": 2,
   "metadata": {},
   "outputs": [],
   "source": [
    "\n",
    "import requests\n",
    "import re\n",
    "import json\n",
    "from bs4 import BeautifulSoup\n",
    "import pandas as pd\n",
    "\n",
    "months = [1,2,3,4,5,6,7,8,9,10,11,12]\n",
    "years = [2015,2016,2017,2018,2019,2020,] \n",
    "\n",
    "\n",
    "index_ = ['date','MaxTemp','MinTemp', 'Weather','Wind']  # 选取的气象要素\n",
    "data = pd.DataFrame(columns=index_)  # 建立一个空dataframe\n",
    "\n",
    "\n",
    "for y in years:\n",
    "\tfor m in months:\n",
    "\t\turl = 'http://tianqi.2345.com/Pc/GetHistory?areaInfo[areaId]=349727&areaInfo[areaType]=1&date[year]='+str(y)+'&date[month]='+str(m)\n",
    "\t\tresponse = requests.get(url=url)\n",
    "\t\tif response.status_code == 200:  # 防止url请求无响应\n",
    "\t\t\t#print(json.loads(response.text)['data'])\n",
    "\t\t\thtml_str = json.loads(response.text)['data']\n",
    "\t\t\tsoup = BeautifulSoup(html_str,'lxml')\n",
    "\t\t\ttr = soup.table.select(\"tr\")\n",
    "\t\t\tfor i in tr[1:]:\n",
    "\n",
    "\t\t\t\ttd = i.select('td')\n",
    "\t\t\t\ttmp = []\n",
    "\t\t\t\tfor j in td:\n",
    "\t\t\t\t\t#print(re.sub('<.*?>',\"\",str(j)))\n",
    "\t\t\t\t\ttmp.append(re.sub('<.*?>',\"\",str(j)))\n",
    "\t\t\t\t#print(tmp)\n",
    "\t\t\t\tdata_spider = pd.DataFrame(tmp).T\n",
    "\t\t\t\tdata_spider.columns = index_  # 修改列名\n",
    "\t\t\t\t#data_spider.index = date  # 修改索引\n",
    "\t\t\t\tdata = pd.concat((data,data_spider), axis=0)  # 数据拼接\n",
    "\t#print(data)\n",
    "data.to_csv('C:/Users/yongqi/Desktop/weatherdata_ny.csv',encoding='utf_8_sig',index=False)  # 保存数据\n",
    "\n",
    "\n"
   ]
  }
 ],
 "metadata": {
  "kernelspec": {
   "display_name": "Python 3.9.7 ('base')",
   "language": "python",
   "name": "python3"
  },
  "language_info": {
   "codemirror_mode": {
    "name": "ipython",
    "version": 3
   },
   "file_extension": ".py",
   "mimetype": "text/x-python",
   "name": "python",
   "nbconvert_exporter": "python",
   "pygments_lexer": "ipython3",
   "version": "3.9.7"
  },
  "orig_nbformat": 4,
  "vscode": {
   "interpreter": {
    "hash": "5e2c11bbbad5a2bbd754e37e7ccadd59026a0c9d72ae15d1d78f88bfe02602ab"
   }
  }
 },
 "nbformat": 4,
 "nbformat_minor": 2
}
