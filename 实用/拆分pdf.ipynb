{
 "cells": [
  {
   "cell_type": "markdown",
   "metadata": {},
   "source": [
    "## 拆分pdf"
   ]
  },
  {
   "cell_type": "code",
   "execution_count": 1,
   "metadata": {},
   "outputs": [
    {
     "data": {
      "application/vnd.jupyter.widget-view+json": {
       "model_id": "6908c9dce37e4732b402339be91fbbc5",
       "version_major": 2,
       "version_minor": 0
      },
      "text/plain": [
       "  0%|          | 0/10 [00:00<?, ?it/s]"
      ]
     },
     "metadata": {},
     "output_type": "display_data"
    }
   ],
   "source": [
    "from PyPDF2 import PdfFileWriter, PdfFileReader\n",
    "from tqdm.notebook import tqdm\n",
    "\n",
    "# def pdf_split(pdf_in,pdf_out,start,end):\n",
    "    # 初始化一个pdf\n",
    "# output = PdfFileWriter()\n",
    "# 读取pdf\n",
    "in_pdf = PdfFileReader(open(\"E:/A_Master/培养环节/个人文档/22-23-1/文献阅读研二上.pdf\", \"rb\"))\n",
    "# 获取pdf页数\n",
    "for i in tqdm(range(in_pdf.getNumPages())):\n",
    "    # 定义一个空白页\n",
    "    output = PdfFileWriter()\n",
    "    # 读取每一页\n",
    "    page = in_pdf.getPage(i)\n",
    "    # 添加到输出\n",
    "    output.addPage(page)\n",
    "    # 写入文件\n",
    "    with open(\"E:/A_Master/培养环节/个人文档/文献阅读/文献阅读\"+str(i+21)+\".pdf\", \"wb\") as outputStream:\n",
    "        output.write(outputStream)\n",
    "\n"
   ]
  },
  {
   "cell_type": "markdown",
   "metadata": {},
   "source": [
    "## 合并pdf"
   ]
  },
  {
   "cell_type": "code",
   "execution_count": null,
   "metadata": {},
   "outputs": [],
   "source": [
    "import os\n",
    "from PyPDF2 import PdfFileMerger\n",
    "\n",
    "target_path = '/Users/kwsy/Desktop'\n",
    "pdf_lst = [f for f in os.listdir(target_path) if f.endswith('.pdf')]\n",
    "pdf_lst = [os.path.join(target_path, filename) for filename in pdf_lst]\n",
    "\n",
    "file_merger = PdfFileMerger()\n",
    "for pdf in pdf_lst:\n",
    "    file_merger.append(pdf)     # 合并pdf文件\n",
    "\n",
    "file_merger.write(\"/Users/kwsy/Desktop/merge.pdf\")"
   ]
  }
 ],
 "metadata": {
  "kernelspec": {
   "display_name": "Python 3.9.7 ('base')",
   "language": "python",
   "name": "python3"
  },
  "language_info": {
   "codemirror_mode": {
    "name": "ipython",
    "version": 3
   },
   "file_extension": ".py",
   "mimetype": "text/x-python",
   "name": "python",
   "nbconvert_exporter": "python",
   "pygments_lexer": "ipython3",
   "version": "3.9.7"
  },
  "orig_nbformat": 4,
  "vscode": {
   "interpreter": {
    "hash": "5e2c11bbbad5a2bbd754e37e7ccadd59026a0c9d72ae15d1d78f88bfe02602ab"
   }
  }
 },
 "nbformat": 4,
 "nbformat_minor": 2
}
