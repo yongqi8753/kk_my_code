{
 "cells": [
  {
   "cell_type": "code",
   "execution_count": 1,
   "id": "5011cac5",
   "metadata": {
    "ExecuteTime": {
     "end_time": "2022-11-12T09:37:24.792994Z",
     "start_time": "2022-11-12T09:37:21.139658Z"
    }
   },
   "outputs": [],
   "source": [
    "import warnings\n",
    "import pandas as pd\n",
    "import numpy as np\n",
    "import seaborn as sns\n",
    "import matplotlib.pyplot as plt\n",
    "plt.rcParams['font.sans-serif'] = ['SimHei']  #显示中文\n",
    "plt.rcParams['axes.unicode_minus']=False #用来正常显示负号\n",
    "plt.rcParams['figure.dpi'] = 300\n",
    "%matplotlib inline\n",
    "# %config InlineBackend.figure_format = 'svg'\n",
    "warnings.filterwarnings('ignore')\n",
    "pd.set_option('display.max_columns', None) # 显示所有列\n",
    "from tqdm.notebook import tqdm\n",
    "# import geopandas as gpd\n",
    "# import transbigdata as tbd\n",
    "# import geoplot as gplt"
   ]
  },
  {
   "cell_type": "code",
   "execution_count": 2,
   "id": "7a67545e",
   "metadata": {
    "ExecuteTime": {
     "end_time": "2022-11-12T09:41:42.773549Z",
     "start_time": "2022-11-12T09:41:40.221218Z"
    }
   },
   "outputs": [],
   "source": [
    "park_data = pd.read_csv('../park_data.csv')"
   ]
  },
  {
   "cell_type": "code",
   "execution_count": 33,
   "id": "7714a787",
   "metadata": {
    "ExecuteTime": {
     "end_time": "2022-11-12T14:10:52.000889Z",
     "start_time": "2022-11-12T13:42:14.394570Z"
    }
   },
   "outputs": [
    {
     "data": {
      "application/vnd.jupyter.widget-view+json": {
       "model_id": "90075a2ec3f14ee1b2e13b6455b3999c",
       "version_major": 2,
       "version_minor": 0
      },
      "text/plain": [
       "  0%|          | 0/11 [00:00<?, ?it/s]"
      ]
     },
     "metadata": {},
     "output_type": "display_data"
    },
    {
     "name": "stdout",
     "output_type": "stream",
     "text": [
      "存储路径为：  E:/yongqi/mobike/park_to_location_data/park2location_10.csv\n"
     ]
    },
    {
     "data": {
      "application/vnd.jupyter.widget-view+json": {
       "model_id": "e9e3e864409e4991a170aaaeccb051e5",
       "version_major": 2,
       "version_minor": 0
      },
      "text/plain": [
       "  0%|          | 0/144 [00:00<?, ?it/s]"
      ]
     },
     "metadata": {},
     "output_type": "display_data"
    },
    {
     "name": "stdout",
     "output_type": "stream",
     "text": [
      "location_data.shape: (18196199, 4)\n",
      "排序完成\n",
      "保存完成\n",
      "存储路径为：  E:/yongqi/mobike/park_to_location_data/park2location_11.csv\n"
     ]
    },
    {
     "data": {
      "application/vnd.jupyter.widget-view+json": {
       "model_id": "e74bfc6241af46dcbe28d394cd62b87c",
       "version_major": 2,
       "version_minor": 0
      },
      "text/plain": [
       "  0%|          | 0/131 [00:00<?, ?it/s]"
      ]
     },
     "metadata": {},
     "output_type": "display_data"
    },
    {
     "name": "stdout",
     "output_type": "stream",
     "text": [
      "location_data.shape: (16553835, 4)\n",
      "排序完成\n",
      "保存完成\n",
      "存储路径为：  E:/yongqi/mobike/park_to_location_data/park2location_12.csv\n"
     ]
    },
    {
     "data": {
      "application/vnd.jupyter.widget-view+json": {
       "model_id": "f31bc05f789b407eb906b4c10cd283b6",
       "version_major": 2,
       "version_minor": 0
      },
      "text/plain": [
       "  0%|          | 0/120 [00:00<?, ?it/s]"
      ]
     },
     "metadata": {},
     "output_type": "display_data"
    },
    {
     "name": "stdout",
     "output_type": "stream",
     "text": [
      "location_data.shape: (15164242, 4)\n",
      "排序完成\n",
      "保存完成\n",
      "存储路径为：  E:/yongqi/mobike/park_to_location_data/park2location_13.csv\n"
     ]
    },
    {
     "data": {
      "application/vnd.jupyter.widget-view+json": {
       "model_id": "59648c82418b4e64b1158af6fbb654f1",
       "version_major": 2,
       "version_minor": 0
      },
      "text/plain": [
       "  0%|          | 0/111 [00:00<?, ?it/s]"
      ]
     },
     "metadata": {},
     "output_type": "display_data"
    },
    {
     "name": "stdout",
     "output_type": "stream",
     "text": [
      "location_data.shape: (14027828, 4)\n",
      "排序完成\n",
      "保存完成\n",
      "存储路径为：  E:/yongqi/mobike/park_to_location_data/park2location_14.csv\n"
     ]
    },
    {
     "data": {
      "application/vnd.jupyter.widget-view+json": {
       "model_id": "1e8841515bc841909e816c7939ea2ec9",
       "version_major": 2,
       "version_minor": 0
      },
      "text/plain": [
       "  0%|          | 0/103 [00:00<?, ?it/s]"
      ]
     },
     "metadata": {},
     "output_type": "display_data"
    },
    {
     "name": "stdout",
     "output_type": "stream",
     "text": [
      "location_data.shape: (13016064, 4)\n",
      "排序完成\n",
      "保存完成\n",
      "存储路径为：  E:/yongqi/mobike/park_to_location_data/park2location_15.csv\n"
     ]
    },
    {
     "data": {
      "application/vnd.jupyter.widget-view+json": {
       "model_id": "76ae5d61a3bb430c84d279d77cb5b9d8",
       "version_major": 2,
       "version_minor": 0
      },
      "text/plain": [
       "  0%|          | 0/96 [00:00<?, ?it/s]"
      ]
     },
     "metadata": {},
     "output_type": "display_data"
    },
    {
     "name": "stdout",
     "output_type": "stream",
     "text": [
      "location_data.shape: (12132609, 4)\n",
      "排序完成\n",
      "保存完成\n",
      "存储路径为：  E:/yongqi/mobike/park_to_location_data/park2location_16.csv\n"
     ]
    },
    {
     "data": {
      "application/vnd.jupyter.widget-view+json": {
       "model_id": "95c78141b2024fe8b401d6b40e51c059",
       "version_major": 2,
       "version_minor": 0
      },
      "text/plain": [
       "  0%|          | 0/90 [00:00<?, ?it/s]"
      ]
     },
     "metadata": {},
     "output_type": "display_data"
    },
    {
     "name": "stdout",
     "output_type": "stream",
     "text": [
      "location_data.shape: (11373729, 4)\n",
      "排序完成\n",
      "保存完成\n",
      "存储路径为：  E:/yongqi/mobike/park_to_location_data/park2location_17.csv\n"
     ]
    },
    {
     "data": {
      "application/vnd.jupyter.widget-view+json": {
       "model_id": "f73b2d284b1747d6a727190ca0ff3cf2",
       "version_major": 2,
       "version_minor": 0
      },
      "text/plain": [
       "  0%|          | 0/85 [00:00<?, ?it/s]"
      ]
     },
     "metadata": {},
     "output_type": "display_data"
    },
    {
     "name": "stdout",
     "output_type": "stream",
     "text": [
      "location_data.shape: (10743106, 4)\n",
      "排序完成\n",
      "保存完成\n",
      "存储路径为：  E:/yongqi/mobike/park_to_location_data/park2location_18.csv\n"
     ]
    },
    {
     "data": {
      "application/vnd.jupyter.widget-view+json": {
       "model_id": "d6e68595886c49fa88d9ff2a432bd2dc",
       "version_major": 2,
       "version_minor": 0
      },
      "text/plain": [
       "  0%|          | 0/80 [00:00<?, ?it/s]"
      ]
     },
     "metadata": {},
     "output_type": "display_data"
    },
    {
     "name": "stdout",
     "output_type": "stream",
     "text": [
      "location_data.shape: (10109538, 4)\n",
      "排序完成\n",
      "保存完成\n",
      "存储路径为：  E:/yongqi/mobike/park_to_location_data/park2location_19.csv\n"
     ]
    },
    {
     "data": {
      "application/vnd.jupyter.widget-view+json": {
       "model_id": "06ba329507504d34b310f2c97206399c",
       "version_major": 2,
       "version_minor": 0
      },
      "text/plain": [
       "  0%|          | 0/76 [00:00<?, ?it/s]"
      ]
     },
     "metadata": {},
     "output_type": "display_data"
    },
    {
     "name": "stdout",
     "output_type": "stream",
     "text": [
      "location_data.shape: (9604843, 4)\n",
      "排序完成\n",
      "保存完成\n",
      "存储路径为：  E:/yongqi/mobike/park_to_location_data/park2location_20.csv\n"
     ]
    },
    {
     "data": {
      "application/vnd.jupyter.widget-view+json": {
       "model_id": "d697bd292678437f843b9dfc5f113f8a",
       "version_major": 2,
       "version_minor": 0
      },
      "text/plain": [
       "  0%|          | 0/72 [00:00<?, ?it/s]"
      ]
     },
     "metadata": {},
     "output_type": "display_data"
    },
    {
     "name": "stdout",
     "output_type": "stream",
     "text": [
      "location_data.shape: (9098982, 4)\n",
      "排序完成\n",
      "保存完成\n"
     ]
    }
   ],
   "source": [
    "for i in tqdm(range(10,21)):\n",
    "    #初始抓取时间设定为2min抓取一次，起始时间为2018-03-07 00:00:00，结束时间为2018-03-07 23:59:59\n",
    "    timestamp_array= pd.date_range('2018-03-07 00:00:00','2018-03-07 23:59:59',freq='%dT'%i)\n",
    "    print('存储路径为：  E:/yongqi/mobike/park_to_location_data/park2location_%d.csv'%i)\n",
    "    \n",
    "    # 曼哈顿距离\n",
    "    cos_lat = np.cos(30.656883854354138/180 * np.pi) * 111000 # 米\n",
    "    def mhd_dis(lng1, lat1, lng2, lat2):\n",
    "        lng_dis = cos_lat * abs(lng1-lng2)\n",
    "        lat_dis = 111000 * abs(lat1-lat2)\n",
    "        return lng_dis + lat_dis\n",
    "    park_data['mhd_trip_distance']=park_data.apply(lambda x:mhd_dis(x['endlng'], x['endlat'], x['startlng'], x['startlat'])/1000,axis=1)\n",
    "\n",
    "    park_data['park_starttime'] = pd.to_datetime(park_data['park_starttime'])\n",
    "    park_data['park_endtime'] = pd.to_datetime(park_data['park_endtime'])\n",
    "\n",
    "    #考虑停车距离\n",
    "    #设置距离阈值\n",
    "    distance_threshold = 100\n",
    "    #设置空列表\n",
    "    timestamp_list = []\n",
    "    bikeid_list = []\n",
    "    startlng_list = []\n",
    "    startlat_list = []\n",
    "    #对时间戳进行循环\n",
    "    for timestamp in tqdm(timestamp_array):\n",
    "        #将停放数据分成两种处理，分别是temp_data1和temp_data2\n",
    "        #一种是由于GPS漂移造成的停放数据经纬度误差，采用起点和终点的中心作为位置数据中的经纬度\n",
    "        temp_data1 = park_data[(timestamp>=park_data['park_starttime'])&(timestamp<=park_data['park_endtime'])&(park_data['mhd_trip_distance']<=distance_threshold)]\n",
    "        temp_data1['timestamp'] = timestamp\n",
    "        temp_data1['location_lng'] = (temp_data1['startlng'] + temp_data1['endlng'])/2\n",
    "        temp_data1['location_lat'] = (temp_data1['startlat'] + temp_data1['endlat'])/2\n",
    "        timestamp_list.extend(list(temp_data1['timestamp'])) \n",
    "        bikeid_list.extend(list(temp_data1['bikeid']))\n",
    "        startlng_list.extend(list(temp_data1['location_lng']))\n",
    "        startlat_list.extend(list(temp_data1['location_lat']))\n",
    "        #另一种是由于再掉度造成的停放数据经纬度误差，对这部分数据，采用前半段时间在起点，后半段时间在终点作为位置数据中的经纬度\n",
    "        temp_data2 = park_data[(timestamp>=park_data['park_starttime'])&(timestamp<=park_data['park_endtime'])&(park_data['mhd_trip_distance']>distance_threshold)]\n",
    "        temp_data2['timestamp'] = timestamp\n",
    "        temp_data2['mid_time'] = temp_data2['park_starttime'] + (temp_data2['park_endtime'] - temp_data2['park_starttime'])/2 #构造时间中点\n",
    "        temp_data2_1 = temp_data2[(timestamp>=temp_data2['park_starttime'])&(timestamp<temp_data2['mid_time'])]\n",
    "        timestamp_list.extend(list(temp_data2_1['timestamp'])) \n",
    "        bikeid_list.extend(list(temp_data2_1['bikeid']))\n",
    "        startlng_list.extend(list(temp_data2_1['startlng']))\n",
    "        startlat_list.extend(list(temp_data2_1['startlat']))\n",
    "        temp_data2_2 = temp_data2[(timestamp>=temp_data2['mid_time'])&(timestamp<=temp_data2['park_endtime'])]\n",
    "        timestamp_list.extend(list(temp_data2_2['timestamp'])) \n",
    "        bikeid_list.extend(list(temp_data2_2['bikeid']))\n",
    "        startlng_list.extend(list(temp_data2_2['endlng']))\n",
    "        startlat_list.extend(list(temp_data2_2['endlat']))\n",
    "\n",
    "\n",
    "    c={'timestamp' : timestamp_list,'bikeid' : bikeid_list,'startlng' : startlng_list,'startlat' : startlat_list}#将列表a，b转换成字典\n",
    "    location_data=pd.DataFrame(c)#将字典转换成为数据框\n",
    "\n",
    "    location_data.rename(columns={'startlng':'geom_lon','startlat':'geom_lat'},inplace=True)\n",
    "    print('location_data.shape:',location_data.shape)\n",
    "    location_data.sort_values(by=['bikeid','timestamp'],inplace=True)\n",
    "    print('排序完成')\n",
    "    location_data.to_csv('E:/yongqi/mobike/park_to_location_data/park2location_%d.csv'%i,index=False)\n",
    "    print('保存完成')"
   ]
  },
  {
   "cell_type": "code",
   "execution_count": 12,
   "id": "5624614e",
   "metadata": {
    "ExecuteTime": {
     "end_time": "2022-11-12T12:11:14.667794Z",
     "start_time": "2022-11-12T12:11:12.369696Z"
    }
   },
   "outputs": [
    {
     "data": {
      "text/plain": [
       "(700555, 8)"
      ]
     },
     "execution_count": 12,
     "metadata": {},
     "output_type": "execute_result"
    }
   ],
   "source": [
    "df = pd.read_csv('E:/yongqi/mobike/trip_data_3_7.csv')\n",
    "df.shapepe"
   ]
  },
  {
   "cell_type": "code",
   "execution_count": 24,
   "id": "394deae3",
   "metadata": {
    "ExecuteTime": {
     "end_time": "2022-11-12T13:38:24.767536Z",
     "start_time": "2022-11-12T13:38:23.293179Z"
    }
   },
   "outputs": [],
   "source": [
    "df['starttime'] = pd.to_datetime(df['starttime'])\n",
    "df['endtime'] = pd.to_datetime(df['endtime'])\n",
    "df['duration'] = (df['endtime'] - df['starttime']).dt.seconds"
   ]
  },
  {
   "cell_type": "code",
   "execution_count": 32,
   "id": "da9e36ab",
   "metadata": {
    "ExecuteTime": {
     "end_time": "2022-11-12T13:41:09.713750Z",
     "start_time": "2022-11-12T13:41:09.677717Z"
    }
   },
   "outputs": [
    {
     "data": {
      "text/plain": [
       "count    700555.000000\n",
       "mean        704.753083\n",
       "std         884.294214\n",
       "min          60.000000\n",
       "25%         290.000000\n",
       "50%         479.000000\n",
       "75%         834.000000\n",
       "max       43856.000000\n",
       "Name: duration, dtype: float64"
      ]
     },
     "execution_count": 32,
     "metadata": {},
     "output_type": "execute_result"
    }
   ],
   "source": [
    "df['duration'].describe()"
   ]
  },
  {
   "cell_type": "code",
   "execution_count": 31,
   "id": "6154dbbf",
   "metadata": {
    "ExecuteTime": {
     "end_time": "2022-11-12T13:40:51.878388Z",
     "start_time": "2022-11-12T13:40:51.861372Z"
    }
   },
   "outputs": [
    {
     "data": {
      "text/plain": [
       "586.0"
      ]
     },
     "execution_count": 31,
     "metadata": {},
     "output_type": "execute_result"
    }
   ],
   "source": [
    "df['duration'].quantile(0.6)"
   ]
  },
  {
   "cell_type": "code",
   "execution_count": 25,
   "id": "882325d8",
   "metadata": {
    "ExecuteTime": {
     "end_time": "2022-11-12T13:39:35.873177Z",
     "start_time": "2022-11-12T13:39:35.660984Z"
    }
   },
   "outputs": [
    {
     "data": {
      "text/plain": [
       "(array([6.96268e+05, 3.45700e+03, 4.65000e+02, 1.53000e+02, 8.00000e+01,\n",
       "        5.40000e+01, 3.60000e+01, 2.00000e+01, 1.60000e+01, 6.00000e+00]),\n",
       " array([   60. ,  4439.6,  8819.2, 13198.8, 17578.4, 21958. , 26337.6,\n",
       "        30717.2, 35096.8, 39476.4, 43856. ]),\n",
       " <BarContainer object of 10 artists>)"
      ]
     },
     "execution_count": 25,
     "metadata": {},
     "output_type": "execute_result"
    },
    {
     "data": {
      "image/png": "[encoded data removed]",
      "text/plain": [
       "<Figure size 432x288 with 1 Axes>"
      ]
     },
     "metadata": {
      "needs_background": "light"
     },
     "output_type": "display_data"
    }
   ],
   "source": [
    "plt.hist(df['duration'])"
   ]
  },
  {
   "cell_type": "code",
   "execution_count": 4,
   "id": "9d2f2e2a",
   "metadata": {
    "ExecuteTime": {
     "end_time": "2022-11-12T09:42:25.094200Z",
     "start_time": "2022-11-12T09:42:22.007382Z"
    }
   },
   "outputs": [],
   "source": []
  },
  {
   "cell_type": "code",
   "execution_count": 16,
   "id": "a62ac554",
   "metadata": {
    "ExecuteTime": {
     "end_time": "2022-11-12T12:33:10.036947Z",
     "start_time": "2022-11-12T12:30:49.649258Z"
    }
   },
   "outputs": [
    {
     "data": {
      "application/vnd.jupyter.widget-view+json": {
       "model_id": "8a83e2c148074660a2ec90fb4e18de2a",
       "version_major": 2,
       "version_minor": 0
      },
      "text/plain": [
       "  0%|          | 0/360 [00:00<?, ?it/s]"
      ]
     },
     "metadata": {},
     "output_type": "display_data"
    }
   ],
   "source": []
  },
  {
   "cell_type": "code",
   "execution_count": 17,
   "id": "ea0598b3",
   "metadata": {
    "ExecuteTime": {
     "end_time": "2022-11-12T12:36:00.517125Z",
     "start_time": "2022-11-12T12:33:10.038949Z"
    }
   },
   "outputs": [],
   "source": []
  },
  {
   "cell_type": "code",
   "execution_count": 18,
   "id": "a4e157a3",
   "metadata": {
    "ExecuteTime": {
     "end_time": "2022-11-12T12:42:47.617871Z",
     "start_time": "2022-11-12T12:36:00.519127Z"
    }
   },
   "outputs": [
    {
     "name": "stdout",
     "output_type": "stream",
     "text": [
      "location_data.shape: (45490991, 4)\n",
      "排序完成\n",
      "保存完成\n"
     ]
    }
   ],
   "source": []
  },
  {
   "cell_type": "code",
   "execution_count": null,
   "id": "499694bf",
   "metadata": {},
   "outputs": [],
   "source": []
  },
  {
   "cell_type": "code",
   "execution_count": null,
   "id": "d59dfd04",
   "metadata": {},
   "outputs": [],
   "source": []
  }
 ],
 "metadata": {
  "kernelspec": {
   "display_name": "Python 3.9.7 ('base': conda)",
   "language": "python",
   "name": "python3"
  },
  "language_info": {
   "codemirror_mode": {
    "name": "ipython",
    "version": 3
   },
   "file_extension": ".py",
   "mimetype": "text/x-python",
   "name": "python",
   "nbconvert_exporter": "python",
   "pygments_lexer": "ipython3",
   "version": "3.9.7"
  },
  "vscode": {
   "interpreter": {
    "hash": "5e2c11bbbad5a2bbd754e37e7ccadd59026a0c9d72ae15d1d78f88bfe02602ab"
   }
  }
 },
 "nbformat": 4,
 "nbformat_minor": 5
}
